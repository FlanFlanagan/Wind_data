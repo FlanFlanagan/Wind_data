{
 "cells": [
  {
   "cell_type": "code",
   "execution_count": 2,
   "metadata": {},
   "outputs": [],
   "source": [
    "import numpy as np\n",
    "import matplotlib.pyplot as plt\n",
    "import statsmodels.api as sm\n",
    "import statsmodels.tsa as smtsa\n",
    "import random\n",
    "import re"
   ]
  },
  {
   "cell_type": "code",
   "execution_count": 4,
   "metadata": {},
   "outputs": [],
   "source": [
    "with open('solar0.csv', 'r') as f:\n",
    "    lines = f.readlines()\n",
    "f.close()\n",
    "t = []\n",
    "S = []\n",
    "del(lines[0])\n",
    "del(lines[-1])\n",
    "for line in lines:\n",
    "    line = re.split(r'\\t+', line.strip())\n",
    "    t.append(line[0])\n",
    "    S.append(line[1])\n",
    "t = np.array(t)\n",
    "S = np.array(S)"
   ]
  },
  {
   "cell_type": "code",
   "execution_count": 31,
   "metadata": {},
   "outputs": [
    {
     "name": "stdout",
     "output_type": "stream",
     "text": [
      "[ 0.          1.97945205  3.95890411 ... -5.93835616 -3.95890411\n",
      " -1.97945205]\n"
     ]
    },
    {
     "data": {
      "text/plain": [
       "[<matplotlib.lines.Line2D at 0x7fea5003cc88>]"
      ]
     },
     "execution_count": 31,
     "metadata": {},
     "output_type": "execute_result"
    },
    {
     "data": {
      "image/png": "[encoded data removed]",
      "text/plain": [
       "<Figure size 432x288 with 1 Axes>"
      ]
     },
     "metadata": {
      "needs_background": "light"
     },
     "output_type": "display_data"
    }
   ],
   "source": [
    "four = np.fft.fft(S)\n",
    "half = int(len(four)/2)\n",
    "four = 2*np.absolute(four[:half]/L)\n",
    "freq = np.fft.fftfreq(len(four), d=1)\n",
    "print(freq*8670)\n",
    "plt.plot(four)"
   ]
  },
  {
   "cell_type": "code",
   "execution_count": 39,
   "metadata": {},
   "outputs": [
    {
     "data": {
      "text/plain": [
       "[<matplotlib.lines.Line2D at 0x7fea4fdc8710>]"
      ]
     },
     "execution_count": 39,
     "metadata": {},
     "output_type": "execute_result"
    },
    {
     "data": {
      "image/png": "[encoded data removed]",
      "text/plain": [
       "<Figure size 432x288 with 1 Axes>"
      ]
     },
     "metadata": {
      "needs_background": "light"
     },
     "output_type": "display_data"
    }
   ],
   "source": [
    "plt.plot(t[360:370],four[360:370])"
   ]
  },
  {
   "cell_type": "code",
   "execution_count": 15,
   "metadata": {},
   "outputs": [],
   "source": [
    "four_map = {}\n",
    "i = 0\n",
    "for i in range(len(four)):\n",
    "    if four[i] > 1:\n",
    "        four_map[i] = four[i]"
   ]
  },
  {
   "cell_type": "code",
   "execution_count": 16,
   "metadata": {},
   "outputs": [
    {
     "data": {
      "text/plain": [
       "{0: 662.2381278538812,\n",
       " 1: 162.9342603740617,\n",
       " 2: 9.298467812092728,\n",
       " 362: 1.9477084047363968,\n",
       " 363: 5.077910378197675,\n",
       " 364: 94.24437462181909,\n",
       " 365: 502.19958530561394,\n",
       " 366: 105.91114973794657,\n",
       " 367: 23.440325524920606,\n",
       " 368: 2.2072478971268295,\n",
       " 728: 5.4886358657802035,\n",
       " 729: 10.124721102765951,\n",
       " 730: 191.03894223869057,\n",
       " 731: 3.2881951491671133,\n",
       " 732: 22.320895849578015,\n",
       " 1093: 2.759831325145107,\n",
       " 1094: 32.55145917383269,\n",
       " 1096: 28.477203940178118,\n",
       " 1098: 3.6943318359131623,\n",
       " 1458: 6.628450246394669,\n",
       " 1459: 2.777596794551332,\n",
       " 1460: 23.604494750834903,\n",
       " 1461: 1.4628518199437477,\n",
       " 1462: 10.859940350012293,\n",
       " 1823: 1.917313491308155,\n",
       " 1824: 14.42305367751964,\n",
       " 1826: 11.21285817989966,\n",
       " 1828: 3.758449667439707,\n",
       " 2188: 5.780371751778197,\n",
       " 2189: 1.2649986801128181,\n",
       " 2190: 3.013344702131465,\n",
       " 2192: 6.533258436358943,\n",
       " 2194: 1.209243502944476,\n",
       " 2552: 1.422438483359863,\n",
       " 2553: 1.325367122486871,\n",
       " 2554: 6.015152982855608,\n",
       " 2556: 3.7870961969532844,\n",
       " 2558: 3.3430519399683885,\n",
       " 2918: 4.2045776459969755,\n",
       " 2920: 1.1407085693181793,\n",
       " 2922: 3.469648342963194,\n",
       " 2924: 1.1473745062097396,\n",
       " 3282: 1.787738021136618,\n",
       " 3284: 1.6852891603540954,\n",
       " 3288: 2.7468313611943755,\n",
       " 3648: 2.4738846056922403,\n",
       " 3650: 1.146847674123701,\n",
       " 3652: 1.1484213620785568,\n",
       " 4012: 1.9821522551714308,\n",
       " 4018: 2.258619114965413}"
      ]
     },
     "execution_count": 16,
     "metadata": {},
     "output_type": "execute_result"
    }
   ],
   "source": [
    "four_map"
   ]
  },
  {
   "cell_type": "code",
   "execution_count": null,
   "metadata": {},
   "outputs": [],
   "source": []
  }
 ],
 "metadata": {
  "kernelspec": {
   "display_name": "Python 3",
   "language": "python",
   "name": "python3"
  },
  "language_info": {
   "codemirror_mode": {
    "name": "ipython",
    "version": 3
   },
   "file_extension": ".py",
   "mimetype": "text/x-python",
   "name": "python",
   "nbconvert_exporter": "python",
   "pygments_lexer": "ipython3",
   "version": "3.6.6"
  }
 },
 "nbformat": 4,
 "nbformat_minor": 2
}
