{
 "cells": [
  {
   "cell_type": "code",
   "execution_count": 1,
   "metadata": {},
   "outputs": [],
   "source": [
    "import numpy as np\n",
    "import matplotlib.pyplot as plt\n",
    "import statsmodels.api as sm\n",
    "import statsmodels.tsa as smtsa\n",
    "import random\n",
    "import re\n",
    "from collections import defaultdict"
   ]
  },
  {
   "cell_type": "code",
   "execution_count": 18,
   "metadata": {},
   "outputs": [],
   "source": [
    "with open('solar0.csv', 'r') as f:\n",
    "    lines = f.readlines()\n",
    "f.close()\n",
    "t = []\n",
    "S = []\n",
    "del(lines[0])\n",
    "del(lines[-1])\n",
    "for line in lines:\n",
    "    line = re.split(r'\\t+', line.strip())\n",
    "    t.append(line[0])\n",
    "    S.append(line[1])\n",
    "t = np.array(t)\n",
    "S = np.array(S)"
   ]
  },
  {
   "cell_type": "code",
   "execution_count": 19,
   "metadata": {},
   "outputs": [
    {
     "data": {
      "text/plain": [
       "[<matplotlib.lines.Line2D at 0x7f7ff5733160>]"
      ]
     },
     "execution_count": 19,
     "metadata": {},
     "output_type": "execute_result"
    },
    {
     "data": {
      "image/png": "[encoded data removed]",
      "text/plain": [
       "<Figure size 432x288 with 1 Axes>"
      ]
     },
     "metadata": {
      "needs_background": "light"
     },
     "output_type": "display_data"
    }
   ],
   "source": [
    "four = np.fft.fft(S)\n",
    "half = int(len(four)/2)\n",
    "four = 2*np.absolute(four[:half]/len(four))\n",
    "plt.plot(four)"
   ]
  },
  {
   "cell_type": "code",
   "execution_count": 20,
   "metadata": {},
   "outputs": [],
   "source": [
    "four_map = {}\n",
    "i = 0\n",
    "for i in range(len(four)):\n",
    "    if four[i] > 0.5:\n",
    "        four_map[i] = four[i]"
   ]
  },
  {
   "cell_type": "code",
   "execution_count": 21,
   "metadata": {},
   "outputs": [
    {
     "data": {
      "text/plain": [
       "{0: 662.2381278538812,\n",
       " 1: 162.9342603740617,\n",
       " 2: 9.298467812092728,\n",
       " 362: 1.9477084047363968,\n",
       " 363: 5.077910378197675,\n",
       " 364: 94.24437462181909,\n",
       " 365: 502.19958530561394,\n",
       " 366: 105.91114973794657,\n",
       " 367: 23.440325524920606,\n",
       " 368: 2.2072478971268295,\n",
       " 728: 5.4886358657802035,\n",
       " 729: 10.124721102765951,\n",
       " 730: 191.03894223869057,\n",
       " 731: 3.2881951491671133,\n",
       " 732: 22.320895849578015,\n",
       " 1092: 0.5157652545312714,\n",
       " 1093: 2.759831325145107,\n",
       " 1094: 32.55145917383269,\n",
       " 1095: 0.8792366930035455,\n",
       " 1096: 28.477203940178118,\n",
       " 1098: 3.6943318359131623,\n",
       " 1457: 0.734320382063248,\n",
       " 1458: 6.628450246394669,\n",
       " 1459: 2.777596794551332,\n",
       " 1460: 23.604494750834903,\n",
       " 1461: 1.4628518199437477,\n",
       " 1462: 10.859940350012293,\n",
       " 1464: 0.9292060939835718,\n",
       " 1822: 0.6759899851668522,\n",
       " 1823: 1.917313491308155,\n",
       " 1824: 14.42305367751964,\n",
       " 1825: 0.625356120488121,\n",
       " 1826: 11.21285817989966,\n",
       " 1827: 0.590859849012673,\n",
       " 1828: 3.758449667439707,\n",
       " 2187: 0.8616406411041102,\n",
       " 2188: 5.780371751778197,\n",
       " 2189: 1.2649986801128181,\n",
       " 2190: 3.013344702131465,\n",
       " 2191: 0.6050830671331375,\n",
       " 2192: 6.533258436358943,\n",
       " 2194: 1.209243502944476,\n",
       " 2552: 1.422438483359863,\n",
       " 2553: 1.325367122486871,\n",
       " 2554: 6.015152982855608,\n",
       " 2556: 3.7870961969532844,\n",
       " 2558: 3.3430519399683885,\n",
       " 2560: 0.7107136404561601,\n",
       " 2917: 0.8582662208160485,\n",
       " 2918: 4.2045776459969755,\n",
       " 2919: 0.62334704190089,\n",
       " 2920: 1.1407085693181793,\n",
       " 2922: 3.469648342963194,\n",
       " 2924: 1.1473745062097396,\n",
       " 3282: 1.787738021136618,\n",
       " 3283: 0.8613041750415537,\n",
       " 3284: 1.6852891603540954,\n",
       " 3288: 2.7468313611943755,\n",
       " 3290: 0.8851754269079133,\n",
       " 3647: 0.759796821050279,\n",
       " 3648: 2.4738846056922403,\n",
       " 3650: 1.146847674123701,\n",
       " 3652: 1.1484213620785568,\n",
       " 3653: 0.5350394912560635,\n",
       " 3654: 0.816982100155597,\n",
       " 4010: 0.6037028032895135,\n",
       " 4012: 1.9821522551714308,\n",
       " 4016: 0.7554801635710033,\n",
       " 4018: 2.258619114965413,\n",
       " 4020: 0.8421143404396397,\n",
       " 4377: 0.6343133477737334,\n",
       " 4378: 0.7474241227203194}"
      ]
     },
     "execution_count": 21,
     "metadata": {},
     "output_type": "execute_result"
    }
   ],
   "source": [
    "four_map"
   ]
  },
  {
   "cell_type": "code",
   "execution_count": 22,
   "metadata": {},
   "outputs": [
    {
     "data": {
      "text/plain": [
       "{0: 662.2381278538812,\n",
       " 2: 9.298467812092728,\n",
       " 365: 502.19958530561394,\n",
       " 367: 23.440325524920606,\n",
       " 730: 191.03894223869057,\n",
       " 732: 22.320895849578015,\n",
       " 1094: 32.55145917383269,\n",
       " 1096: 28.477203940178118,\n",
       " 1458: 6.628450246394669,\n",
       " 1460: 23.604494750834903,\n",
       " 1462: 10.859940350012293,\n",
       " 1824: 14.42305367751964,\n",
       " 1826: 11.21285817989966,\n",
       " 1828: 3.758449667439707,\n",
       " 2188: 5.780371751778197,\n",
       " 2190: 3.013344702131465,\n",
       " 2192: 6.533258436358943,\n",
       " 2552: 1.422438483359863,\n",
       " 2554: 6.015152982855608,\n",
       " 2558: 3.3430519399683885,\n",
       " 2918: 4.2045776459969755,\n",
       " 2922: 3.469648342963194,\n",
       " 3282: 1.787738021136618,\n",
       " 3288: 2.7468313611943755,\n",
       " 3648: 2.4738846056922403,\n",
       " 3652: 1.1484213620785568,\n",
       " 3654: 0.816982100155597,\n",
       " 4012: 1.9821522551714308,\n",
       " 4018: 2.258619114965413}"
      ]
     },
     "execution_count": 22,
     "metadata": {},
     "output_type": "execute_result"
    }
   ],
   "source": [
    "R = {}\n",
    "last = [0,0]\n",
    "for t1,v in four_map.items():\n",
    "    if v > last[1]:\n",
    "        last[0] = t1\n",
    "        last[1] = v\n",
    "    else: \n",
    "        R[last[0]] = last[1]\n",
    "        last = [0,0]\n",
    "R"
   ]
  },
  {
   "cell_type": "code",
   "execution_count": 23,
   "metadata": {},
   "outputs": [
    {
     "data": {
      "text/plain": [
       "{0: 662.2381278538812,\n",
       " 4018: 2.258619114965413,\n",
       " 3288: 2.7468313611943755,\n",
       " 2918: 4.2045776459969755,\n",
       " 2554: 6.015152982855608,\n",
       " 2192: 6.533258436358943,\n",
       " 2188: 5.780371751778197,\n",
       " 1824: 14.42305367751964,\n",
       " 1460: 23.604494750834903,\n",
       " 1094: 32.55145917383269,\n",
       " 730: 191.03894223869057,\n",
       " 365: 502.19958530561394}"
      ]
     },
     "execution_count": 23,
     "metadata": {},
     "output_type": "execute_result"
    }
   ],
   "source": [
    "Y = {}\n",
    "last = [0,0]\n",
    "r_list = list(R.keys())\n",
    "Y[r_list[0]] = R[r_list[0]]\n",
    "for t1 in reversed(r_list):\n",
    "    if R[t1] > last[1]:\n",
    "        last[0] = t1\n",
    "        last[1] = R[t1]\n",
    "    else: \n",
    "        Y[last[0]] = last[1]\n",
    "        last = [0,0]\n",
    "Y"
   ]
  },
  {
   "cell_type": "code",
   "execution_count": 38,
   "metadata": {},
   "outputs": [
    {
     "name": "stdout",
     "output_type": "stream",
     "text": [
      "0 662.2381278538812\n"
     ]
    },
    {
     "ename": "TypeError",
     "evalue": "ufunc 'multiply' did not contain a loop with signature matching types dtype('<U32') dtype('<U32') dtype('<U32')",
     "output_type": "error",
     "traceback": [
      "\u001b[0;31m---------------------------------------------------------------------------\u001b[0m",
      "\u001b[0;31mTypeError\u001b[0m                                 Traceback (most recent call last)",
      "\u001b[0;32m<ipython-input-38-ca2ac2781316>\u001b[0m in \u001b[0;36m<module>\u001b[0;34m\u001b[0m\n\u001b[1;32m      2\u001b[0m \u001b[0;32mfor\u001b[0m \u001b[0mt1\u001b[0m\u001b[0;34m,\u001b[0m\u001b[0mv\u001b[0m \u001b[0;32min\u001b[0m \u001b[0mY\u001b[0m\u001b[0;34m.\u001b[0m\u001b[0mitems\u001b[0m\u001b[0;34m(\u001b[0m\u001b[0;34m)\u001b[0m\u001b[0;34m:\u001b[0m\u001b[0;34m\u001b[0m\u001b[0m\n\u001b[1;32m      3\u001b[0m     \u001b[0mprint\u001b[0m\u001b[0;34m(\u001b[0m\u001b[0mt1\u001b[0m\u001b[0;34m,\u001b[0m \u001b[0mv\u001b[0m\u001b[0;34m)\u001b[0m\u001b[0;34m\u001b[0m\u001b[0m\n\u001b[0;32m----> 4\u001b[0;31m     \u001b[0msig\u001b[0m \u001b[0;34m=\u001b[0m \u001b[0msig\u001b[0m \u001b[0;34m+\u001b[0m \u001b[0mv\u001b[0m\u001b[0;34m*\u001b[0m\u001b[0mnp\u001b[0m\u001b[0;34m.\u001b[0m\u001b[0msin\u001b[0m\u001b[0;34m(\u001b[0m\u001b[0;36m2\u001b[0m\u001b[0;34m*\u001b[0m\u001b[0mnp\u001b[0m\u001b[0;34m.\u001b[0m\u001b[0mpi\u001b[0m\u001b[0;34m*\u001b[0m\u001b[0mt1\u001b[0m\u001b[0;34m*\u001b[0m\u001b[0mt\u001b[0m\u001b[0;34m/\u001b[0m\u001b[0mlen\u001b[0m\u001b[0;34m(\u001b[0m\u001b[0mt\u001b[0m\u001b[0;34m)\u001b[0m\u001b[0;34m)\u001b[0m\u001b[0;34m\u001b[0m\u001b[0m\n\u001b[0m",
      "\u001b[0;31mTypeError\u001b[0m: ufunc 'multiply' did not contain a loop with signature matching types dtype('<U32') dtype('<U32') dtype('<U32')"
     ]
    }
   ],
   "source": [
    "sig = np.array([])\n",
    "for t1,v in Y.items():\n",
    "    print(t1, v)\n",
    "    sig = sig + v*np.sin(2*np.pi*t1*t/len(t))"
   ]
  },
  {
   "cell_type": "code",
   "execution_count": 34,
   "metadata": {},
   "outputs": [
    {
     "data": {
      "text/plain": [
       "[<matplotlib.lines.Line2D at 0x7f7ff921feb8>]"
      ]
     },
     "execution_count": 34,
     "metadata": {},
     "output_type": "execute_result"
    },
    {
     "data": {
      "image/png": "[encoded data removed]",
      "text/plain": [
       "<Figure size 432x288 with 1 Axes>"
      ]
     },
     "metadata": {
      "needs_background": "light"
     },
     "output_type": "display_data"
    }
   ],
   "source": [
    "plt.plot(sig)"
   ]
  },
  {
   "cell_type": "code",
   "execution_count": null,
   "metadata": {},
   "outputs": [],
   "source": []
  }
 ],
 "metadata": {
  "kernelspec": {
   "display_name": "Python 3",
   "language": "python",
   "name": "python3"
  },
  "language_info": {
   "codemirror_mode": {
    "name": "ipython",
    "version": 3
   },
   "file_extension": ".py",
   "mimetype": "text/x-python",
   "name": "python",
   "nbconvert_exporter": "python",
   "pygments_lexer": "ipython3",
   "version": "3.6.6"
  }
 },
 "nbformat": 4,
 "nbformat_minor": 2
}
